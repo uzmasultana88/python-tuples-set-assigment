{
 "cells": [
  {
   "cell_type": "markdown",
   "id": "3552d6af-8e38-4915-9966-ebee1eb2f8f7",
   "metadata": {},
   "source": [
    " Q1. What are the characteristics of the tuples? Is tuple immutable?:\n",
    " \n",
    "Ans.tuples are collection of items seperated by commas and it is under normal () brackets it has index it can have repetation of items  it is similar to list in indexing and nesting but tuples are immutable we cannot change the data in tuples \n",
    "\n",
    "tuples are  immutable"
   ]
  },
  {
   "cell_type": "markdown",
   "id": "78a7807a-e76e-47c5-bced-1e5e573d4b16",
   "metadata": {
    "tags": []
   },
   "source": [
    " Q2. What are the two tuple methods in python? Give an example of each method. Give a reason why tuples have only two in-built methods as compared to Lists.\n",
    " \n",
    "Ans.tuples has count and index methods.as it is imutable and unchangeable we have only two methods.lists are mutable and we can add remove update so we have more methods in lists\n"
   ]
  },
  {
   "cell_type": "code",
   "execution_count": 1,
   "id": "c7b6d514-124a-4b42-bbb8-956f285c4fb3",
   "metadata": {},
   "outputs": [],
   "source": [
    "tuple1=(1,2,3,4)"
   ]
  },
  {
   "cell_type": "code",
   "execution_count": 2,
   "id": "835701be-5e55-4991-ae1e-c09efd05fbd4",
   "metadata": {},
   "outputs": [
    {
     "data": {
      "text/plain": [
       "tuple"
      ]
     },
     "execution_count": 2,
     "metadata": {},
     "output_type": "execute_result"
    }
   ],
   "source": [
    "type(tuple1)"
   ]
  },
  {
   "cell_type": "code",
   "execution_count": 3,
   "id": "d99568c6-db74-44eb-9ded-81d345200f4a",
   "metadata": {},
   "outputs": [
    {
     "data": {
      "text/plain": [
       "1"
      ]
     },
     "execution_count": 3,
     "metadata": {},
     "output_type": "execute_result"
    }
   ],
   "source": [
    "tuple1.count(2)"
   ]
  },
  {
   "cell_type": "code",
   "execution_count": 4,
   "id": "1cb494c3-5500-4c50-96e5-6a028879b7d7",
   "metadata": {},
   "outputs": [
    {
     "data": {
      "text/plain": [
       "2"
      ]
     },
     "execution_count": 4,
     "metadata": {},
     "output_type": "execute_result"
    }
   ],
   "source": [
    "tuple1.index(3)"
   ]
  },
  {
   "cell_type": "markdown",
   "id": "a01edf84-c106-4d30-8f2a-41a7a50d1195",
   "metadata": {},
   "source": [
    "q3.Which collection datatypes in python do not allow duplicate items? Write a code using a set to remove duplicates from the given list.\n",
    "List = [1, 1, 1, 2, 1, 3, 1, 4, 2, 1, 2, 2, 2, 3, 2, 4, 3, 1, 3, 2, 3, 3, 3, 4, 4, 1, 4, 2, 4, 3, 4, 4]"
   ]
  },
  {
   "cell_type": "markdown",
   "id": "591b0e93-c938-4cd6-be87-5860fc259d38",
   "metadata": {},
   "source": [
    "Ans. set is a datatype in python which does not allow duplicate items."
   ]
  },
  {
   "cell_type": "code",
   "execution_count": 5,
   "id": "e6ab7816-2323-4492-97cb-b1d968ec8747",
   "metadata": {},
   "outputs": [],
   "source": [
    "List1=[1, 1, 1, 2, 1, 3, 1, 4, 2, 1, 2, 2, 2, 3, 2, 4, 3, 1, 3, 2, 3, 3, 3, 4, 4, 1, 4, 2, 4, 3, 4, 4]\n"
   ]
  },
  {
   "cell_type": "code",
   "execution_count": 6,
   "id": "89f1b551-4955-494b-aadd-c4a188d47f91",
   "metadata": {},
   "outputs": [],
   "source": [
    "s=set(List1)"
   ]
  },
  {
   "cell_type": "code",
   "execution_count": 7,
   "id": "926cb531-634d-4e77-b5b5-6ec086af8f7a",
   "metadata": {},
   "outputs": [
    {
     "data": {
      "text/plain": [
       "{1, 2, 3, 4}"
      ]
     },
     "execution_count": 7,
     "metadata": {},
     "output_type": "execute_result"
    }
   ],
   "source": [
    "s"
   ]
  },
  {
   "cell_type": "markdown",
   "id": "2c103639-aea7-4e0f-a5f0-ad7de1b1748c",
   "metadata": {},
   "source": [
    "Q4. Explain the difference between the union() and update() methods for a set. Give an example of\n",
    "each method."
   ]
  },
  {
   "cell_type": "markdown",
   "id": "1bc56b1d-27cb-420f-ba57-e1584295d383",
   "metadata": {},
   "source": [
    "Ans. union() gives new set with unique elements of two sets but two set value remains same.  and update it updates(adds) the first set with unique value of second set so first set has all values of s1 and s2.   "
   ]
  },
  {
   "cell_type": "code",
   "execution_count": 8,
   "id": "8f730aca-2d1a-44a5-9fad-954efba4b3a3",
   "metadata": {},
   "outputs": [],
   "source": [
    "s1={1,2,3,\"uzma\"}\n",
    "s2={2,3,5,6,\"syed\",\"uzma\"}"
   ]
  },
  {
   "cell_type": "code",
   "execution_count": 9,
   "id": "a7cbfac1-9177-4d4d-8f8c-791ccef57923",
   "metadata": {},
   "outputs": [],
   "source": [
    "s3=s1.union(s2)"
   ]
  },
  {
   "cell_type": "code",
   "execution_count": 10,
   "id": "1c0f0a04-8937-4bca-8355-00865c9da40a",
   "metadata": {},
   "outputs": [
    {
     "data": {
      "text/plain": [
       "{1, 2, 3, 'uzma'}"
      ]
     },
     "execution_count": 10,
     "metadata": {},
     "output_type": "execute_result"
    }
   ],
   "source": [
    "s1"
   ]
  },
  {
   "cell_type": "code",
   "execution_count": 11,
   "id": "a0a86c33-9226-4502-a70a-539d4153b6e9",
   "metadata": {},
   "outputs": [
    {
     "data": {
      "text/plain": [
       "{2, 3, 5, 6, 'syed', 'uzma'}"
      ]
     },
     "execution_count": 11,
     "metadata": {},
     "output_type": "execute_result"
    }
   ],
   "source": [
    "s2"
   ]
  },
  {
   "cell_type": "code",
   "execution_count": 12,
   "id": "6deead8b-f532-40cb-8893-89d90d41f85b",
   "metadata": {},
   "outputs": [
    {
     "data": {
      "text/plain": [
       "{1, 2, 3, 5, 6, 'syed', 'uzma'}"
      ]
     },
     "execution_count": 12,
     "metadata": {},
     "output_type": "execute_result"
    }
   ],
   "source": [
    "s3"
   ]
  },
  {
   "cell_type": "code",
   "execution_count": 13,
   "id": "6ea080fd-4116-42d4-8e2a-35fd8d338651",
   "metadata": {},
   "outputs": [],
   "source": [
    "s1.update(s2)"
   ]
  },
  {
   "cell_type": "code",
   "execution_count": 14,
   "id": "ac2f2075-2145-41b9-b18f-e2adce2c4d22",
   "metadata": {},
   "outputs": [
    {
     "data": {
      "text/plain": [
       "{1, 2, 3, 5, 6, 'syed', 'uzma'}"
      ]
     },
     "execution_count": 14,
     "metadata": {},
     "output_type": "execute_result"
    }
   ],
   "source": [
    "s1"
   ]
  },
  {
   "cell_type": "code",
   "execution_count": 15,
   "id": "dc294f98-8cb0-4977-b3be-47ed2b08e632",
   "metadata": {},
   "outputs": [
    {
     "data": {
      "text/plain": [
       "{2, 3, 5, 6, 'syed', 'uzma'}"
      ]
     },
     "execution_count": 15,
     "metadata": {},
     "output_type": "execute_result"
    }
   ],
   "source": [
    "s2"
   ]
  },
  {
   "cell_type": "markdown",
   "id": "852c314d-21e8-4b5c-a631-967e89275d71",
   "metadata": {},
   "source": [
    "q5.What is a dictionary? Give an example. Also, state whether a dictionary is ordered or unordered."
   ]
  },
  {
   "cell_type": "markdown",
   "id": "2436ca13-ec29-4a05-9f4a-bf83f0d050cb",
   "metadata": {},
   "source": [
    "Ans.dictionary is a datatype with keys and values and uses {} braces keys:values and it is unordered.its indexing is using keys.\n",
    "dic={\"key1\":\"value\",1:\"string\",\"car\":[\"mercedez\",\"benz\"]}"
   ]
  },
  {
   "cell_type": "code",
   "execution_count": 16,
   "id": "68062bf1-bd63-483e-abb6-28dbe2219513",
   "metadata": {},
   "outputs": [],
   "source": [
    "dic={\"key1\":\"value\",1:\"string\",\"car\":[\"mercedez\",\"benz\"]}"
   ]
  },
  {
   "cell_type": "code",
   "execution_count": 17,
   "id": "0a08e66d-f407-4ba2-be1a-c10379dbb37a",
   "metadata": {},
   "outputs": [
    {
     "data": {
      "text/plain": [
       "{'key1': 'value', 1: 'string', 'car': ['mercedez', 'benz']}"
      ]
     },
     "execution_count": 17,
     "metadata": {},
     "output_type": "execute_result"
    }
   ],
   "source": [
    "dic"
   ]
  },
  {
   "cell_type": "markdown",
   "id": "e0043a17-805d-44af-b6db-8b744e3eb81e",
   "metadata": {},
   "source": [
    "Q6. Can we create a nested dictionary? If so, please give an example by creating a simple one-level\n",
    "nested dictionary."
   ]
  },
  {
   "cell_type": "code",
   "execution_count": 18,
   "id": "2a798fda-4abf-44f9-aaf7-e7a903931a10",
   "metadata": {},
   "outputs": [
    {
     "data": {
      "text/plain": [
       "{'school': 'juu',\n",
       " 'class': 5,\n",
       " 'sub': {'english': ('phonics', 'evs'), 'lang': ('urdu', 'hind', 'tamil')}}"
      ]
     },
     "execution_count": 18,
     "metadata": {},
     "output_type": "execute_result"
    }
   ],
   "source": [
    "## yes we can create a nested dictionary.\n",
    "dic1={\"school\":\"juu\",\"class\":5,\"sub\":{\"english\":(\"phonics\",\"evs\"),\"lang\":(\"urdu\",\"hind\",\"tamil\")}}\n",
    "dic1"
   ]
  },
  {
   "cell_type": "markdown",
   "id": "4861f543-cc1d-4800-bd3c-4af8d822ee6b",
   "metadata": {},
   "source": [
    "Q7. Using setdefault() method, create key named topics in the given dictionary and also add the value of\n",
    "the key as this list ['Python', 'Machine Learning’, 'Deep Learning']"
   ]
  },
  {
   "cell_type": "code",
   "execution_count": 19,
   "id": "d510873a-7408-4daa-927a-b24d19fb943f",
   "metadata": {},
   "outputs": [
    {
     "data": {
      "text/plain": [
       "{'language': 'Python',\n",
       " 'course': 'Data Science Masters',\n",
       " 'topic': ['python', 'machine learning', 'deep lerning']}"
      ]
     },
     "execution_count": 19,
     "metadata": {},
     "output_type": "execute_result"
    }
   ],
   "source": [
    "dict1 = {'language' : 'Python', 'course': 'Data Science Masters'}\n",
    "dict1.setdefault(\"topic\",['python','machine learning','deep lerning'])\n",
    "dict1"
   ]
  },
  {
   "cell_type": "code",
   "execution_count": 20,
   "id": "15e6c185-e79d-42d9-9c66-47b3874ae540",
   "metadata": {},
   "outputs": [
    {
     "data": {
      "text/plain": [
       "{'topic': 'data science'}"
      ]
     },
     "execution_count": 20,
     "metadata": {},
     "output_type": "execute_result"
    }
   ],
   "source": [
    "d={\"topic\":\"data science\"}\n",
    "d.setdefault(\"topic\",['python','machine learning','deep lerning'])\n",
    "d"
   ]
  },
  {
   "cell_type": "markdown",
   "id": "bd6917bb-291f-4f36-b376-439388dc9b9e",
   "metadata": {},
   "source": [
    "Q8. What are the three view objects in dictionaries? Use the three in-built methods in python to display\n",
    "these three view objects for the given dictionary.\n",
    "dict1 = {'Sport': 'Cricket' , 'Teams': ['India', 'Australia', 'England', 'South Africa', 'Sri Lanka', 'New Zealand']}"
   ]
  },
  {
   "cell_type": "code",
   "execution_count": 21,
   "id": "68097efa-72b8-4b11-991c-d04ac8442535",
   "metadata": {},
   "outputs": [],
   "source": [
    "dict1 = {'Sport': 'Cricket' , 'Teams': ['India', 'Australia', 'England', 'South Africa', 'Sri Lanka', 'New Zealand']}"
   ]
  },
  {
   "cell_type": "code",
   "execution_count": 22,
   "id": "d05586f1-e5bf-43a5-ae85-61331e95eb73",
   "metadata": {},
   "outputs": [
    {
     "data": {
      "text/plain": [
       "dict_keys(['Sport', 'Teams'])"
      ]
     },
     "execution_count": 22,
     "metadata": {},
     "output_type": "execute_result"
    }
   ],
   "source": [
    "dict1.keys()"
   ]
  },
  {
   "cell_type": "code",
   "execution_count": 23,
   "id": "3856324e-55b2-493c-913a-a8fa52b0abf1",
   "metadata": {},
   "outputs": [
    {
     "data": {
      "text/plain": [
       "dict_values(['Cricket', ['India', 'Australia', 'England', 'South Africa', 'Sri Lanka', 'New Zealand']])"
      ]
     },
     "execution_count": 23,
     "metadata": {},
     "output_type": "execute_result"
    }
   ],
   "source": [
    "dict1.values()"
   ]
  },
  {
   "cell_type": "code",
   "execution_count": 24,
   "id": "a67efa6d-604a-4814-a380-222f2b6fa88b",
   "metadata": {},
   "outputs": [
    {
     "data": {
      "text/plain": [
       "dict_items([('Sport', 'Cricket'), ('Teams', ['India', 'Australia', 'England', 'South Africa', 'Sri Lanka', 'New Zealand'])])"
      ]
     },
     "execution_count": 24,
     "metadata": {},
     "output_type": "execute_result"
    }
   ],
   "source": [
    "dict1.items()"
   ]
  },
  {
   "cell_type": "code",
   "execution_count": null,
   "id": "2f62e85f-d8d3-454b-b858-21b4f0cf51eb",
   "metadata": {},
   "outputs": [],
   "source": []
  }
 ],
 "metadata": {
  "kernelspec": {
   "display_name": "Python 3 (ipykernel)",
   "language": "python",
   "name": "python3"
  },
  "language_info": {
   "codemirror_mode": {
    "name": "ipython",
    "version": 3
   },
   "file_extension": ".py",
   "mimetype": "text/x-python",
   "name": "python",
   "nbconvert_exporter": "python",
   "pygments_lexer": "ipython3",
   "version": "3.10.8"
  }
 },
 "nbformat": 4,
 "nbformat_minor": 5
}
